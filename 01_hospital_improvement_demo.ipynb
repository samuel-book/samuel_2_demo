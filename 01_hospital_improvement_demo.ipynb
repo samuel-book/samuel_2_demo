{
 "cells": [
  {
   "cell_type": "markdown",
   "metadata": {},
   "source": [
    "# SAMueL-2 hospital improvement demo"
   ]
  },
  {
   "cell_type": "code",
   "execution_count": 1,
   "metadata": {},
   "outputs": [],
   "source": [
    "from utils.pathway import Pathway\n",
    "from utils.thrombolysis_choice_outcome import ThrombolysisChoiceOutcome\n",
    "from utils.calculate_sim_paramaters import CalculateSimParameters\n",
    "\n",
    "# Remove warnings for demo\n",
    "import warnings; warnings.filterwarnings(\"ignore\")"
   ]
  },
  {
   "cell_type": "code",
   "execution_count": 2,
   "metadata": {},
   "outputs": [],
   "source": [
    "# Summarise data for sim model\n",
    "sim_param_calc = CalculateSimParameters()\n",
    "sim_param_calc.calculate_parameters_for_pathway_simulation()"
   ]
  },
  {
   "cell_type": "code",
   "execution_count": 3,
   "metadata": {},
   "outputs": [],
   "source": [
    "# Run machine learnign models and save results\n",
    "choice_outcome_model = ThrombolysisChoiceOutcome()\n",
    "choice_outcome_model.run()"
   ]
  },
  {
   "cell_type": "code",
   "execution_count": 4,
   "metadata": {},
   "outputs": [
    {
     "ename": "ValueError",
     "evalue": "p < 0, p > 1 or p is NaN",
     "output_type": "error",
     "traceback": [
      "\u001b[0;31m---------------------------------------------------------------------------\u001b[0m",
      "\u001b[0;31mValueError\u001b[0m                                Traceback (most recent call last)",
      "Cell \u001b[0;32mIn[4], line 3\u001b[0m\n\u001b[1;32m      1\u001b[0m \u001b[38;5;66;03m# Run pathway model and save results\u001b[39;00m\n\u001b[1;32m      2\u001b[0m pathway \u001b[38;5;241m=\u001b[39m Pathway(trials\u001b[38;5;241m=\u001b[39m\u001b[38;5;241m10\u001b[39m)\n\u001b[0;32m----> 3\u001b[0m \u001b[43mpathway\u001b[49m\u001b[38;5;241;43m.\u001b[39;49m\u001b[43mrun\u001b[49m\u001b[43m(\u001b[49m\u001b[43m)\u001b[49m\n",
      "File \u001b[0;32m~/Dropbox/01_Git_Current/1_Samuel/samuel_2_demo/utils/pathway.py:418\u001b[0m, in \u001b[0;36mPathway.run\u001b[0;34m(self)\u001b[0m\n\u001b[1;32m    416\u001b[0m hospital_performance[\u001b[38;5;124m'\u001b[39m\u001b[38;5;124meligable\u001b[39m\u001b[38;5;124m'\u001b[39m] \u001b[38;5;241m*\u001b[39m\u001b[38;5;241m=\u001b[39m benchmark_adjustment\n\u001b[1;32m    417\u001b[0m \u001b[38;5;66;03m# Get results\u001b[39;00m\n\u001b[0;32m--> 418\u001b[0m results \u001b[38;5;241m=\u001b[39m \u001b[38;5;28;43mself\u001b[39;49m\u001b[38;5;241;43m.\u001b[39;49m\u001b[43mmodel_ssnap_pathway_scenarios\u001b[49m\u001b[43m(\u001b[49m\u001b[43mhospital_performance\u001b[49m\u001b[43m)\u001b[49m\n\u001b[1;32m    419\u001b[0m results[\u001b[38;5;124m'\u001b[39m\u001b[38;5;124mscenario\u001b[39m\u001b[38;5;124m'\u001b[39m] \u001b[38;5;241m=\u001b[39m \u001b[38;5;124m'\u001b[39m\u001b[38;5;124mbenchmark\u001b[39m\u001b[38;5;124m'\u001b[39m\n\u001b[1;32m    420\u001b[0m \u001b[38;5;66;03m# Add to results_all\u001b[39;00m\n",
      "File \u001b[0;32m~/Dropbox/01_Git_Current/1_Samuel/samuel_2_demo/utils/pathway.py:178\u001b[0m, in \u001b[0;36mPathway.model_ssnap_pathway_scenarios\u001b[0;34m(self, hospital_performance)\u001b[0m\n\u001b[1;32m    172\u001b[0m patient_array[:, \u001b[38;5;241m10\u001b[39m] \u001b[38;5;241m=\u001b[39m np\u001b[38;5;241m.\u001b[39mrandom\u001b[38;5;241m.\u001b[39mbinomial(\n\u001b[1;32m    173\u001b[0m     \u001b[38;5;241m1\u001b[39m, prop_ischaemic, patients_per_run)\n\u001b[1;32m    175\u001b[0m \u001b[38;5;66;03m# Eligable for thrombolysis (proportion of ischaemic patients  \u001b[39;00m\n\u001b[1;32m    176\u001b[0m \u001b[38;5;66;03m# eligable for thrombolysis when scanned within 4 hrs )\u001b[39;00m\n\u001b[1;32m    177\u001b[0m patient_array[:, \u001b[38;5;241m11\u001b[39m] \u001b[38;5;241m=\u001b[39m (\n\u001b[0;32m--> 178\u001b[0m     \u001b[43mnp\u001b[49m\u001b[38;5;241;43m.\u001b[39;49m\u001b[43mrandom\u001b[49m\u001b[38;5;241;43m.\u001b[39;49m\u001b[43mbinomial\u001b[49m\u001b[43m(\u001b[49m\u001b[38;5;241;43m1\u001b[39;49m\u001b[43m,\u001b[49m\u001b[43m \u001b[49m\u001b[43mrun_data\u001b[49m\u001b[43m[\u001b[49m\u001b[38;5;124;43m'\u001b[39;49m\u001b[38;5;124;43meligable\u001b[39;49m\u001b[38;5;124;43m'\u001b[39;49m\u001b[43m]\u001b[49m\u001b[43m,\u001b[49m\u001b[43m \u001b[49m\u001b[43mpatients_per_run\u001b[49m\u001b[43m)\u001b[49m)\n\u001b[1;32m    180\u001b[0m \u001b[38;5;66;03m# Thrombolysis planned (checks this is within thrombolysys time, & \u001b[39;00m\n\u001b[1;32m    181\u001b[0m \u001b[38;5;66;03m# patient considerd eligable for thrombolysis if scanned in time\u001b[39;00m\n\u001b[1;32m    182\u001b[0m patient_array[:, \u001b[38;5;241m12\u001b[39m] \u001b[38;5;241m=\u001b[39m (patient_array[:, \u001b[38;5;241m9\u001b[39m] \u001b[38;5;241m*\u001b[39m patient_array[:, \u001b[38;5;241m10\u001b[39m] \u001b[38;5;241m*\u001b[39m\n\u001b[1;32m    183\u001b[0m     patient_array[:, \u001b[38;5;241m11\u001b[39m])\n",
      "File \u001b[0;32mnumpy/random/mtrand.pyx:3485\u001b[0m, in \u001b[0;36mnumpy.random.mtrand.RandomState.binomial\u001b[0;34m()\u001b[0m\n",
      "File \u001b[0;32m_common.pyx:430\u001b[0m, in \u001b[0;36mnumpy.random._common.check_constraint\u001b[0;34m()\u001b[0m\n",
      "\u001b[0;31mValueError\u001b[0m: p < 0, p > 1 or p is NaN"
     ]
    }
   ],
   "source": [
    "# Run pathway model and save results\n",
    "pathway = Pathway(trials=10)\n",
    "pathway.run()"
   ]
  },
  {
   "cell_type": "code",
   "execution_count": null,
   "metadata": {},
   "outputs": [],
   "source": [
    "pathway.plot_summary_results(show=True)"
   ]
  },
  {
   "cell_type": "code",
   "execution_count": null,
   "metadata": {},
   "outputs": [],
   "source": []
  }
 ],
 "metadata": {
  "kernelspec": {
   "display_name": "samprod",
   "language": "python",
   "name": "python3"
  },
  "language_info": {
   "codemirror_mode": {
    "name": "ipython",
    "version": 3
   },
   "file_extension": ".py",
   "mimetype": "text/x-python",
   "name": "python",
   "nbconvert_exporter": "python",
   "pygments_lexer": "ipython3",
   "version": "3.10.13"
  }
 },
 "nbformat": 4,
 "nbformat_minor": 2
}
